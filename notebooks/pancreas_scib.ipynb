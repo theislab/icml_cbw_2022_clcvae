{
 "cells": [
  {
   "cell_type": "code",
   "execution_count": 1,
   "metadata": {},
   "outputs": [
    {
     "name": "stderr",
     "output_type": "stream",
     "text": [
      "During startup - Warning message:\n",
      "Setting LC_CTYPE failed, using \"C\" \n"
     ]
    }
   ],
   "source": [
    "import scib\n",
    "\n",
    "import scanpy as sc\n",
    "import pandas as pd\n",
    "import numpy as np"
   ]
  },
  {
   "cell_type": "code",
   "execution_count": 2,
   "metadata": {},
   "outputs": [
    {
     "name": "stderr",
     "output_type": "stream",
     "text": [
      "/home/icb/soroor.hediyeh-zadeh/miniconda3/envs/scib-scvi/lib/python3.7/site-packages/scanpy/_settings.py:447: DeprecationWarning: `set_matplotlib_formats` is deprecated since IPython 7.23, directly use `matplotlib_inline.backend_inline.set_matplotlib_formats()`\n",
      "  IPython.display.set_matplotlib_formats(*ipython_format)\n"
     ]
    }
   ],
   "source": [
    "sc.settings.set_figure_params(dpi=200, frameon=False)\n",
    "sc.set_figure_params(dpi=200)\n",
    "sc.set_figure_params(figsize=(4, 4))"
   ]
  },
  {
   "cell_type": "code",
   "execution_count": 3,
   "metadata": {},
   "outputs": [],
   "source": [
    "def compute_scib_metrics(adata, emb_key, label_key, batch_key, model_name):\n",
    "    from scib.metrics.silhouette import silhouette_batch, silhouette\n",
    "    from scib.metrics.lisi import lisi_graph\n",
    "    import pandas as pd\n",
    "\n",
    "    emb_key_ = \"X_emb\"\n",
    "    adata.obsm[emb_key_] = adata.obsm[emb_key]\n",
    "    sc.pp.neighbors(adata, use_rep=emb_key_)\n",
    "    df = pd.DataFrame(index=[model_name])\n",
    "#     df[\"clisi\"] = scib.metrics.clisi_graph(adata, batch_key, label_key, type_=\"embed\")\n",
    "    \n",
    "    \n",
    "    df[\"graph_connectivity\"] = scib.metrics.graph_connectivity(adata, label_key)\n",
    "    df[\"sil_batch\"] = silhouette_batch(adata, batch_key, label_key, emb_key_)\n",
    "    df[\"sil_labels\"] = silhouette(adata, label_key, emb_key_)\n",
    "    df[\"celltype_F1\"] = scib.metrics.isolated_labels(adata, label_key, batch_key, cluster=False, embed = emb_key)\n",
    "\n",
    "    return df"
   ]
  },
  {
   "cell_type": "code",
   "execution_count": 4,
   "metadata": {},
   "outputs": [
    {
     "name": "stdout",
     "output_type": "stream",
     "text": [
      "mean silhouette per group:                     silhouette_score\n",
      "group                               \n",
      "acinar                      0.845614\n",
      "activated_stellate          0.873461\n",
      "alpha                       0.899104\n",
      "beta                        0.908715\n",
      "delta                       0.910465\n",
      "ductal                      0.899412\n",
      "endothelial                 0.865536\n",
      "epsilon                     0.729303\n",
      "gamma                       0.874028\n",
      "macrophage                  0.856590\n",
      "mast                        0.808183\n",
      "quiescent_stellate          0.854925\n",
      "schwann                     0.802127\n",
      "t_cell                      0.813318\n",
      "isolated labels: no more than 4 batches per label\n",
      "t_cell: 0.6036002561450005\n"
     ]
    },
    {
     "data": {
      "text/html": [
       "<div>\n",
       "<style scoped>\n",
       "    .dataframe tbody tr th:only-of-type {\n",
       "        vertical-align: middle;\n",
       "    }\n",
       "\n",
       "    .dataframe tbody tr th {\n",
       "        vertical-align: top;\n",
       "    }\n",
       "\n",
       "    .dataframe thead th {\n",
       "        text-align: right;\n",
       "    }\n",
       "</style>\n",
       "<table border=\"1\" class=\"dataframe\">\n",
       "  <thead>\n",
       "    <tr style=\"text-align: right;\">\n",
       "      <th></th>\n",
       "      <th>graph_connectivity</th>\n",
       "      <th>sil_batch</th>\n",
       "      <th>sil_labels</th>\n",
       "      <th>celltype_F1</th>\n",
       "    </tr>\n",
       "  </thead>\n",
       "  <tbody>\n",
       "    <tr>\n",
       "      <th>fine-tune</th>\n",
       "      <td>0.984103</td>\n",
       "      <td>0.852913</td>\n",
       "      <td>0.585793</td>\n",
       "      <td>0.6036</td>\n",
       "    </tr>\n",
       "  </tbody>\n",
       "</table>\n",
       "</div>"
      ],
      "text/plain": [
       "           graph_connectivity  sil_batch  sil_labels  celltype_F1\n",
       "fine-tune            0.984103   0.852913    0.585793       0.6036"
      ]
     },
     "execution_count": 4,
     "metadata": {},
     "output_type": "execute_result"
    }
   ],
   "source": [
    "adata_full = sc.read('../results/pancreas_finetune_latent.h5ad')\n",
    "\n",
    "emb_key = \"X_scVI\"\n",
    "scvi_metrics1 = compute_scib_metrics(adata_full, emb_key, \"celltype\", \"tech_orig\", \"fine-tune\")\n",
    "scvi_metrics1"
   ]
  },
  {
   "cell_type": "code",
   "execution_count": 5,
   "metadata": {},
   "outputs": [
    {
     "name": "stdout",
     "output_type": "stream",
     "text": [
      "mean silhouette per group:                     silhouette_score\n",
      "group                               \n",
      "acinar                      0.892470\n",
      "activated_stellate          0.880504\n",
      "alpha                       0.892839\n",
      "beta                        0.924711\n",
      "delta                       0.928506\n",
      "ductal                      0.905457\n",
      "endothelial                 0.833802\n",
      "epsilon                     0.784332\n",
      "gamma                       0.913429\n",
      "macrophage                  0.869621\n",
      "mast                        0.804784\n",
      "quiescent_stellate          0.880585\n",
      "schwann                     0.855231\n",
      "t_cell                      0.821524\n",
      "isolated labels: no more than 4 batches per label\n",
      "t_cell: 0.6043961942195892\n"
     ]
    },
    {
     "data": {
      "text/html": [
       "<div>\n",
       "<style scoped>\n",
       "    .dataframe tbody tr th:only-of-type {\n",
       "        vertical-align: middle;\n",
       "    }\n",
       "\n",
       "    .dataframe tbody tr th {\n",
       "        vertical-align: top;\n",
       "    }\n",
       "\n",
       "    .dataframe thead th {\n",
       "        text-align: right;\n",
       "    }\n",
       "</style>\n",
       "<table border=\"1\" class=\"dataframe\">\n",
       "  <thead>\n",
       "    <tr style=\"text-align: right;\">\n",
       "      <th></th>\n",
       "      <th>graph_connectivity</th>\n",
       "      <th>sil_batch</th>\n",
       "      <th>sil_labels</th>\n",
       "      <th>celltype_F1</th>\n",
       "    </tr>\n",
       "  </thead>\n",
       "  <tbody>\n",
       "    <tr>\n",
       "      <th>surgery</th>\n",
       "      <td>0.986043</td>\n",
       "      <td>0.870557</td>\n",
       "      <td>0.610954</td>\n",
       "      <td>0.604396</td>\n",
       "    </tr>\n",
       "  </tbody>\n",
       "</table>\n",
       "</div>"
      ],
      "text/plain": [
       "         graph_connectivity  sil_batch  sil_labels  celltype_F1\n",
       "surgery            0.986043   0.870557    0.610954     0.604396"
      ]
     },
     "execution_count": 5,
     "metadata": {},
     "output_type": "execute_result"
    }
   ],
   "source": [
    "adata_full = sc.read('../results/pancreas_surgery_latent.h5ad')\n",
    "\n",
    "emb_key = \"X_scVI\"\n",
    "scvi_metrics2 = compute_scib_metrics(adata_full, emb_key, \"celltype\", \"tech_orig\", \"surgery\")\n",
    "scvi_metrics2"
   ]
  },
  {
   "cell_type": "code",
   "execution_count": 6,
   "metadata": {},
   "outputs": [
    {
     "name": "stdout",
     "output_type": "stream",
     "text": [
      "mean silhouette per group:                     silhouette_score\n",
      "group                               \n",
      "acinar                      0.891051\n",
      "activated_stellate          0.888215\n",
      "alpha                       0.885715\n",
      "beta                        0.918450\n",
      "delta                       0.935987\n",
      "ductal                      0.905090\n",
      "endothelial                 0.835935\n",
      "epsilon                     0.784838\n",
      "gamma                       0.918643\n",
      "macrophage                  0.865078\n",
      "mast                        0.825611\n",
      "quiescent_stellate          0.881199\n",
      "schwann                     0.838061\n",
      "t_cell                      0.801594\n",
      "isolated labels: no more than 4 batches per label\n",
      "t_cell: 0.6173735857009888\n"
     ]
    },
    {
     "data": {
      "text/html": [
       "<div>\n",
       "<style scoped>\n",
       "    .dataframe tbody tr th:only-of-type {\n",
       "        vertical-align: middle;\n",
       "    }\n",
       "\n",
       "    .dataframe tbody tr th {\n",
       "        vertical-align: top;\n",
       "    }\n",
       "\n",
       "    .dataframe thead th {\n",
       "        text-align: right;\n",
       "    }\n",
       "</style>\n",
       "<table border=\"1\" class=\"dataframe\">\n",
       "  <thead>\n",
       "    <tr style=\"text-align: right;\">\n",
       "      <th></th>\n",
       "      <th>graph_connectivity</th>\n",
       "      <th>sil_batch</th>\n",
       "      <th>sil_labels</th>\n",
       "      <th>celltype_F1</th>\n",
       "    </tr>\n",
       "  </thead>\n",
       "  <tbody>\n",
       "    <tr>\n",
       "      <th>clcvae</th>\n",
       "      <td>0.984659</td>\n",
       "      <td>0.869676</td>\n",
       "      <td>0.618086</td>\n",
       "      <td>0.617374</td>\n",
       "    </tr>\n",
       "  </tbody>\n",
       "</table>\n",
       "</div>"
      ],
      "text/plain": [
       "        graph_connectivity  sil_batch  sil_labels  celltype_F1\n",
       "clcvae            0.984659   0.869676    0.618086     0.617374"
      ]
     },
     "execution_count": 6,
     "metadata": {},
     "output_type": "execute_result"
    }
   ],
   "source": [
    "adata_full = sc.read('../results/pancreas_clcvae_latent.h5ad')\n",
    "\n",
    "emb_key = \"X_scVI\"\n",
    "scvi_metrics3 = compute_scib_metrics(adata_full, emb_key, \"celltype\", \"tech_orig\", \"clcvae\")\n",
    "scvi_metrics3"
   ]
  },
  {
   "cell_type": "code",
   "execution_count": 10,
   "metadata": {},
   "outputs": [],
   "source": [
    "df = pd.concat((scvi_metrics1, scvi_metrics2, scvi_metrics3))"
   ]
  },
  {
   "cell_type": "code",
   "execution_count": 12,
   "metadata": {},
   "outputs": [],
   "source": [
    "df = df.T"
   ]
  },
  {
   "cell_type": "code",
   "execution_count": 36,
   "metadata": {},
   "outputs": [
    {
     "data": {
      "image/png": "[encoded data removed]",
      "text/plain": [
       "<Figure size 480x320 with 1 Axes>"
      ]
     },
     "metadata": {
      "image/png": {
       "height": 388,
       "width": 429
      },
      "needs_background": "light"
     },
     "output_type": "display_data"
    }
   ],
   "source": [
    "ax = df.plot.bar(rot=45, figsize=(6, 4))"
   ]
  },
  {
   "cell_type": "code",
   "execution_count": 37,
   "metadata": {},
   "outputs": [],
   "source": [
    "ax.figure.savefig('figures/pancreas_scib_metrics.png')"
   ]
  },
  {
   "cell_type": "code",
   "execution_count": null,
   "metadata": {},
   "outputs": [],
   "source": []
  }
 ],
 "metadata": {
  "kernelspec": {
   "display_name": "Python 3 (ipykernel)",
   "language": "python",
   "name": "python3"
  },
  "language_info": {
   "codemirror_mode": {
    "name": "ipython",
    "version": 3
   },
   "file_extension": ".py",
   "mimetype": "text/x-python",
   "name": "python",
   "nbconvert_exporter": "python",
   "pygments_lexer": "ipython3",
   "version": "3.7.0"
  }
 },
 "nbformat": 4,
 "nbformat_minor": 2
}
